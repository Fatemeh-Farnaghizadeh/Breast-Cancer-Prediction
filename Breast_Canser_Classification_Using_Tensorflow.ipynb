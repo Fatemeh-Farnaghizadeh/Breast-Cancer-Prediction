{
 "cells": [
  {
   "cell_type": "markdown",
   "id": "a1ecc2cb",
   "metadata": {},
   "source": [
    "# imports"
   ]
  },
  {
   "cell_type": "code",
   "execution_count": 65,
   "id": "613b6bcc",
   "metadata": {},
   "outputs": [],
   "source": [
    "import tensorflow as tf\n",
    "from tensorflow.keras.models import Model\n",
    "from tensorflow.keras.layers import Input, Dense\n",
    "from tensorflow.keras.optimizers import RMSprop\n",
    "from tensorflow.keras.losses import BinaryCrossentropy\n",
    "import pandas as pd\n",
    "import numpy as np\n",
    "from sklearn.model_selection import train_test_split"
   ]
  },
  {
   "cell_type": "markdown",
   "id": "67a81a35",
   "metadata": {},
   "source": [
    "# Data"
   ]
  },
  {
   "cell_type": "code",
   "execution_count": 66,
   "id": "ea1e2624",
   "metadata": {},
   "outputs": [
    {
     "name": "stdout",
     "output_type": "stream",
     "text": [
      "        id  clump_thickness  un_cell_size  un_cell_shape  marginal_adheshion  \\\n",
      "0  1000025                5             1              1                   1   \n",
      "1  1002945                5             4              4                   5   \n",
      "2  1015425                3             1              1                   1   \n",
      "3  1016277                6             8              8                   1   \n",
      "4  1017023                4             1              1                   3   \n",
      "\n",
      "   single_eph_cell_size bare_nuclei  bland_chromatin  normal_nucleol  mitoses  \\\n",
      "0                     2           1                3               1        1   \n",
      "1                     7          10                3               2        1   \n",
      "2                     2           2                3               1        1   \n",
      "3                     3           4                3               7        1   \n",
      "4                     2           1                3               1        1   \n",
      "\n",
      "   class  \n",
      "0      2  \n",
      "1      2  \n",
      "2      2  \n",
      "3      2  \n",
      "4      2  \n"
     ]
    }
   ],
   "source": [
    "URL='https://archive.ics.uci.edu/ml/machine-learning-databases/breast-cancer-wisconsin/breast-cancer-wisconsin.data'\n",
    "\n",
    "col_names=[\"id\", \"clump_thickness\", \"un_cell_size\", \"un_cell_shape\", \"marginal_adheshion\", \"single_eph_cell_size\"\n",
    "           , \"bare_nuclei\", \"bland_chromatin\",\"normal_nucleol\",\"mitoses\", \"class\"]\n",
    "\n",
    "df=pd.read_csv(URL,names=col_names)\n",
    "print(df.head(5))"
   ]
  },
  {
   "cell_type": "code",
   "execution_count": 67,
   "id": "7f0fb2a9",
   "metadata": {},
   "outputs": [
    {
     "data": {
      "text/plain": [
       "<AxesSubplot:>"
      ]
     },
     "execution_count": 67,
     "metadata": {},
     "output_type": "execute_result"
    },
    {
     "data": {
      "image/png": "[encoded data removed]",
      "text/plain": [
       "<Figure size 432x288 with 1 Axes>"
      ]
     },
     "metadata": {
      "needs_background": "light"
     },
     "output_type": "display_data"
    }
   ],
   "source": [
    "df['class'].hist(bins=20)"
   ]
  },
  {
   "cell_type": "code",
   "execution_count": 68,
   "id": "9f3970bb",
   "metadata": {},
   "outputs": [],
   "source": [
    "df['class'] = np.where(df['class'] == 2, 0, 1)\n"
   ]
  },
  {
   "cell_type": "code",
   "execution_count": 69,
   "id": "2fc53dd1",
   "metadata": {},
   "outputs": [
    {
     "data": {
      "text/plain": [
       "0      1000025\n",
       "1      1002945\n",
       "2      1015425\n",
       "3      1016277\n",
       "4      1017023\n",
       "        ...   \n",
       "694     776715\n",
       "695     841769\n",
       "696     888820\n",
       "697     897471\n",
       "698     897471\n",
       "Name: id, Length: 683, dtype: int64"
      ]
     },
     "execution_count": 69,
     "metadata": {},
     "output_type": "execute_result"
    }
   ],
   "source": [
    "df=df[df['bare_nuclei']!='?']\n",
    "df.bare_nuclei = pd.to_numeric(df.bare_nuclei)\n",
    "df.pop('id')"
   ]
  },
  {
   "cell_type": "code",
   "execution_count": 70,
   "id": "a8607b63",
   "metadata": {},
   "outputs": [],
   "source": [
    "train, test = train_test_split(df, test_size = 0.2)\n",
    "\n",
    "train_y=train.pop('class')\n",
    "test_y=test.pop('class')"
   ]
  },
  {
   "cell_type": "code",
   "execution_count": 71,
   "id": "72ab1a02",
   "metadata": {},
   "outputs": [
    {
     "data": {
      "text/html": [
       "<div>\n",
       "<style scoped>\n",
       "    .dataframe tbody tr th:only-of-type {\n",
       "        vertical-align: middle;\n",
       "    }\n",
       "\n",
       "    .dataframe tbody tr th {\n",
       "        vertical-align: top;\n",
       "    }\n",
       "\n",
       "    .dataframe thead th {\n",
       "        text-align: right;\n",
       "    }\n",
       "</style>\n",
       "<table border=\"1\" class=\"dataframe\">\n",
       "  <thead>\n",
       "    <tr style=\"text-align: right;\">\n",
       "      <th></th>\n",
       "      <th>count</th>\n",
       "      <th>mean</th>\n",
       "      <th>std</th>\n",
       "      <th>min</th>\n",
       "      <th>25%</th>\n",
       "      <th>50%</th>\n",
       "      <th>75%</th>\n",
       "      <th>max</th>\n",
       "    </tr>\n",
       "  </thead>\n",
       "  <tbody>\n",
       "    <tr>\n",
       "      <th>clump_thickness</th>\n",
       "      <td>546.0</td>\n",
       "      <td>4.362637</td>\n",
       "      <td>2.776110</td>\n",
       "      <td>1.0</td>\n",
       "      <td>2.0</td>\n",
       "      <td>4.0</td>\n",
       "      <td>5.0</td>\n",
       "      <td>10.0</td>\n",
       "    </tr>\n",
       "    <tr>\n",
       "      <th>un_cell_size</th>\n",
       "      <td>546.0</td>\n",
       "      <td>3.075092</td>\n",
       "      <td>3.018573</td>\n",
       "      <td>1.0</td>\n",
       "      <td>1.0</td>\n",
       "      <td>1.0</td>\n",
       "      <td>4.0</td>\n",
       "      <td>10.0</td>\n",
       "    </tr>\n",
       "    <tr>\n",
       "      <th>un_cell_shape</th>\n",
       "      <td>546.0</td>\n",
       "      <td>3.157509</td>\n",
       "      <td>2.976499</td>\n",
       "      <td>1.0</td>\n",
       "      <td>1.0</td>\n",
       "      <td>1.0</td>\n",
       "      <td>5.0</td>\n",
       "      <td>10.0</td>\n",
       "    </tr>\n",
       "    <tr>\n",
       "      <th>marginal_adheshion</th>\n",
       "      <td>546.0</td>\n",
       "      <td>2.844322</td>\n",
       "      <td>2.883604</td>\n",
       "      <td>1.0</td>\n",
       "      <td>1.0</td>\n",
       "      <td>1.0</td>\n",
       "      <td>4.0</td>\n",
       "      <td>10.0</td>\n",
       "    </tr>\n",
       "    <tr>\n",
       "      <th>single_eph_cell_size</th>\n",
       "      <td>546.0</td>\n",
       "      <td>3.179487</td>\n",
       "      <td>2.172560</td>\n",
       "      <td>1.0</td>\n",
       "      <td>2.0</td>\n",
       "      <td>2.0</td>\n",
       "      <td>4.0</td>\n",
       "      <td>10.0</td>\n",
       "    </tr>\n",
       "    <tr>\n",
       "      <th>bare_nuclei</th>\n",
       "      <td>546.0</td>\n",
       "      <td>3.496337</td>\n",
       "      <td>3.654956</td>\n",
       "      <td>1.0</td>\n",
       "      <td>1.0</td>\n",
       "      <td>1.0</td>\n",
       "      <td>6.0</td>\n",
       "      <td>10.0</td>\n",
       "    </tr>\n",
       "    <tr>\n",
       "      <th>bland_chromatin</th>\n",
       "      <td>546.0</td>\n",
       "      <td>3.375458</td>\n",
       "      <td>2.376502</td>\n",
       "      <td>1.0</td>\n",
       "      <td>2.0</td>\n",
       "      <td>3.0</td>\n",
       "      <td>4.0</td>\n",
       "      <td>10.0</td>\n",
       "    </tr>\n",
       "    <tr>\n",
       "      <th>normal_nucleol</th>\n",
       "      <td>546.0</td>\n",
       "      <td>2.831502</td>\n",
       "      <td>3.010227</td>\n",
       "      <td>1.0</td>\n",
       "      <td>1.0</td>\n",
       "      <td>1.0</td>\n",
       "      <td>4.0</td>\n",
       "      <td>10.0</td>\n",
       "    </tr>\n",
       "    <tr>\n",
       "      <th>mitoses</th>\n",
       "      <td>546.0</td>\n",
       "      <td>1.591575</td>\n",
       "      <td>1.724045</td>\n",
       "      <td>1.0</td>\n",
       "      <td>1.0</td>\n",
       "      <td>1.0</td>\n",
       "      <td>1.0</td>\n",
       "      <td>10.0</td>\n",
       "    </tr>\n",
       "  </tbody>\n",
       "</table>\n",
       "</div>"
      ],
      "text/plain": [
       "                      count      mean       std  min  25%  50%  75%   max\n",
       "clump_thickness       546.0  4.362637  2.776110  1.0  2.0  4.0  5.0  10.0\n",
       "un_cell_size          546.0  3.075092  3.018573  1.0  1.0  1.0  4.0  10.0\n",
       "un_cell_shape         546.0  3.157509  2.976499  1.0  1.0  1.0  5.0  10.0\n",
       "marginal_adheshion    546.0  2.844322  2.883604  1.0  1.0  1.0  4.0  10.0\n",
       "single_eph_cell_size  546.0  3.179487  2.172560  1.0  2.0  2.0  4.0  10.0\n",
       "bare_nuclei           546.0  3.496337  3.654956  1.0  1.0  1.0  6.0  10.0\n",
       "bland_chromatin       546.0  3.375458  2.376502  1.0  2.0  3.0  4.0  10.0\n",
       "normal_nucleol        546.0  2.831502  3.010227  1.0  1.0  1.0  4.0  10.0\n",
       "mitoses               546.0  1.591575  1.724045  1.0  1.0  1.0  1.0  10.0"
      ]
     },
     "execution_count": 71,
     "metadata": {},
     "output_type": "execute_result"
    }
   ],
   "source": [
    "train_describe=train.describe()\n",
    "train_describe=train_describe.transpose()\n",
    "train_describe"
   ]
  },
  {
   "cell_type": "code",
   "execution_count": 72,
   "id": "75bd8008",
   "metadata": {},
   "outputs": [],
   "source": [
    "def norm(x):\n",
    "    return (x - train_describe['mean']) / train_describe['std']"
   ]
  },
  {
   "cell_type": "code",
   "execution_count": 73,
   "id": "5d7ec9e7",
   "metadata": {},
   "outputs": [],
   "source": [
    "x_train_norm=norm(train)\n",
    "x_test_norm=norm(test)\n"
   ]
  },
  {
   "cell_type": "code",
   "execution_count": 74,
   "id": "38cb0d36",
   "metadata": {},
   "outputs": [],
   "source": [
    "train_dataset = tf.data.Dataset.from_tensor_slices((x_train_norm.values, train_y.values))\n",
    "test_dataset = tf.data.Dataset.from_tensor_slices((x_test_norm.values, test_y.values))"
   ]
  },
  {
   "cell_type": "code",
   "execution_count": 80,
   "id": "ea7f965e",
   "metadata": {},
   "outputs": [],
   "source": [
    "batch_size = 32\n",
    "train_dataset = train_dataset.shuffle(buffer_size=len(x_train_norm)).batch(batch_size)\n",
    "test_dataset =  test_dataset.batch(batch_size=batch_size)"
   ]
  },
  {
   "cell_type": "markdown",
   "id": "ab4b02d4",
   "metadata": {},
   "source": [
    "# Model"
   ]
  },
  {
   "cell_type": "code",
   "execution_count": 77,
   "id": "841a7bab",
   "metadata": {},
   "outputs": [],
   "source": [
    "class BreastCancerModel(Model):\n",
    "    \n",
    "    def __init__(self):\n",
    "        \n",
    "        super().__init__()\n",
    "        self.dense1=Dense(128, activation='relu')\n",
    "        self.dense2=Dense(64, activation='relu')\n",
    "        self.out=Dense(1, activation='sigmoid')\n",
    "        \n",
    "    def call(self, inputs):\n",
    "        x=self.dense1(inputs)\n",
    "        x=self.dense2(x)\n",
    "        x=self.out(x)\n",
    "        return x\n",
    "    "
   ]
  },
  {
   "cell_type": "code",
   "execution_count": 78,
   "id": "6926ce7c",
   "metadata": {},
   "outputs": [
    {
     "name": "stdout",
     "output_type": "stream",
     "text": [
      "Epoch 1/5\n",
      "18/18 [==============================] - 1s 2ms/step - loss: 0.2759 - accuracy: 0.9707\n",
      "Epoch 2/5\n",
      "18/18 [==============================] - 0s 2ms/step - loss: 0.0966 - accuracy: 0.9799\n",
      "Epoch 3/5\n",
      "18/18 [==============================] - 0s 2ms/step - loss: 0.0649 - accuracy: 0.9799\n",
      "Epoch 4/5\n",
      "18/18 [==============================] - 0s 2ms/step - loss: 0.0567 - accuracy: 0.9817\n",
      "Epoch 5/5\n",
      "18/18 [==============================] - 0s 2ms/step - loss: 0.0525 - accuracy: 0.9817\n"
     ]
    },
    {
     "data": {
      "text/plain": [
       "<keras.callbacks.History at 0x25abff04e20>"
      ]
     },
     "execution_count": 78,
     "metadata": {},
     "output_type": "execute_result"
    }
   ],
   "source": [
    "model=BreastCancerModel()\n",
    "model.compile(optimizer=RMSprop(learning_rate=0.001),\n",
    "             loss=BinaryCrossentropy(),\n",
    "             metrics=\"accuracy\")\n",
    "model.fit(train_dataset, epochs=5)"
   ]
  },
  {
   "cell_type": "code",
   "execution_count": 79,
   "id": "5355de36",
   "metadata": {},
   "outputs": [
    {
     "name": "stdout",
     "output_type": "stream",
     "text": [
      "5/5 [==============================] - 0s 3ms/step - loss: 0.1472 - accuracy: 0.9489\n"
     ]
    },
    {
     "data": {
      "text/plain": [
       "[0.14719678461551666, 0.9489051103591919]"
      ]
     },
     "execution_count": 79,
     "metadata": {},
     "output_type": "execute_result"
    }
   ],
   "source": [
    "model.evaluate(test_dataset)"
   ]
  }
 ],
 "metadata": {
  "kernelspec": {
   "display_name": "Python 3 (ipykernel)",
   "language": "python",
   "name": "python3"
  },
  "language_info": {
   "codemirror_mode": {
    "name": "ipython",
    "version": 3
   },
   "file_extension": ".py",
   "mimetype": "text/x-python",
   "name": "python",
   "nbconvert_exporter": "python",
   "pygments_lexer": "ipython3",
   "version": "3.9.12"
  }
 },
 "nbformat": 4,
 "nbformat_minor": 5
}
